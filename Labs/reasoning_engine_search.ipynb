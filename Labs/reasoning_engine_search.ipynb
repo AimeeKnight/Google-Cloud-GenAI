{
 "cells": [
  {
   "cell_type": "code",
   "execution_count": 1,
   "id": "d38a0afe-afb4-4139-bb63-58b810f59b77",
   "metadata": {
    "tags": []
   },
   "outputs": [
    {
     "name": "stdout",
     "output_type": "stream",
     "text": [
      "Requirement already satisfied: cloudpickle==3.0.0 in /opt/conda/lib/python3.10/site-packages (3.0.0)\n",
      "Collecting pydantic==2.7.4\n",
      "  Downloading pydantic-2.7.4-py3-none-any.whl.metadata (109 kB)\n",
      "\u001b[2K     \u001b[90m━━━━━━━━━━━━━━━━━━━━━━━━━━━━━━━━━━━━━━━\u001b[0m \u001b[32m109.4/109.4 kB\u001b[0m \u001b[31m1.2 MB/s\u001b[0m eta \u001b[36m0:00:00\u001b[0ma \u001b[36m0:00:01\u001b[0m\n",
      "\u001b[?25hCollecting langchain-google-community\n",
      "  Downloading langchain_google_community-2.0.0-py3-none-any.whl.metadata (3.5 kB)\n",
      "Collecting google-cloud-discoveryengine\n",
      "  Downloading google_cloud_discoveryengine-0.12.2-py3-none-any.whl.metadata (5.2 kB)\n",
      "Requirement already satisfied: google-api-python-client in /opt/conda/lib/python3.10/site-packages (1.8.0)\n",
      "Collecting google-api-python-client\n",
      "  Downloading google_api_python_client-2.146.0-py2.py3-none-any.whl.metadata (6.7 kB)\n",
      "Requirement already satisfied: requests in /opt/conda/lib/python3.10/site-packages (2.32.3)\n",
      "Requirement already satisfied: google-cloud-aiplatform[langchain,reasoningengine] in /opt/conda/lib/python3.10/site-packages (1.60.0)\n",
      "Collecting google-cloud-aiplatform[langchain,reasoningengine]\n",
      "  Downloading google_cloud_aiplatform-1.66.0-py2.py3-none-any.whl.metadata (32 kB)\n",
      "Collecting annotated-types>=0.4.0 (from pydantic==2.7.4)\n",
      "  Downloading annotated_types-0.7.0-py3-none-any.whl.metadata (15 kB)\n",
      "Collecting pydantic-core==2.18.4 (from pydantic==2.7.4)\n",
      "  Downloading pydantic_core-2.18.4-cp310-cp310-manylinux_2_17_x86_64.manylinux2014_x86_64.whl.metadata (6.5 kB)\n",
      "Requirement already satisfied: typing-extensions>=4.6.1 in /opt/conda/lib/python3.10/site-packages (from pydantic==2.7.4) (4.12.2)\n",
      "Requirement already satisfied: google-api-core!=2.0.*,!=2.1.*,!=2.2.*,!=2.3.*,!=2.4.*,!=2.5.*,!=2.6.*,!=2.7.*,<3.0.0dev,>=1.34.1 in /opt/conda/lib/python3.10/site-packages (from google-api-core[grpc]!=2.0.*,!=2.1.*,!=2.2.*,!=2.3.*,!=2.4.*,!=2.5.*,!=2.6.*,!=2.7.*,<3.0.0dev,>=1.34.1->google-cloud-aiplatform[langchain,reasoningengine]) (1.34.1)\n",
      "Requirement already satisfied: google-auth<3.0.0dev,>=2.14.1 in /opt/conda/lib/python3.10/site-packages (from google-cloud-aiplatform[langchain,reasoningengine]) (2.32.0)\n",
      "Requirement already satisfied: proto-plus<2.0.0dev,>=1.22.3 in /opt/conda/lib/python3.10/site-packages (from google-cloud-aiplatform[langchain,reasoningengine]) (1.24.0)\n",
      "Requirement already satisfied: protobuf!=4.21.0,!=4.21.1,!=4.21.2,!=4.21.3,!=4.21.4,!=4.21.5,<6.0.0dev,>=3.20.2 in /opt/conda/lib/python3.10/site-packages (from google-cloud-aiplatform[langchain,reasoningengine]) (3.20.3)\n",
      "Requirement already satisfied: packaging>=14.3 in /opt/conda/lib/python3.10/site-packages (from google-cloud-aiplatform[langchain,reasoningengine]) (24.1)\n",
      "Requirement already satisfied: google-cloud-storage<3.0.0dev,>=1.32.0 in /opt/conda/lib/python3.10/site-packages (from google-cloud-aiplatform[langchain,reasoningengine]) (2.14.0)\n",
      "Requirement already satisfied: google-cloud-bigquery!=3.20.0,<4.0.0dev,>=1.15.0 in /opt/conda/lib/python3.10/site-packages (from google-cloud-aiplatform[langchain,reasoningengine]) (3.25.0)\n",
      "Requirement already satisfied: google-cloud-resource-manager<3.0.0dev,>=1.3.3 in /opt/conda/lib/python3.10/site-packages (from google-cloud-aiplatform[langchain,reasoningengine]) (1.12.5)\n",
      "Requirement already satisfied: shapely<3.0.0dev in /opt/conda/lib/python3.10/site-packages (from google-cloud-aiplatform[langchain,reasoningengine]) (2.0.5)\n",
      "Requirement already satisfied: docstring-parser<1 in /opt/conda/lib/python3.10/site-packages (from google-cloud-aiplatform[langchain,reasoningengine]) (0.16)\n",
      "Collecting langchain<0.3,>=0.1.16 (from google-cloud-aiplatform[langchain,reasoningengine])\n",
      "  Downloading langchain-0.2.16-py3-none-any.whl.metadata (7.1 kB)\n",
      "Collecting langchain-core<0.3 (from google-cloud-aiplatform[langchain,reasoningengine])\n",
      "  Downloading langchain_core-0.2.40-py3-none-any.whl.metadata (6.2 kB)\n",
      "Collecting langchain-google-vertexai<2 (from google-cloud-aiplatform[langchain,reasoningengine])\n",
      "  Downloading langchain_google_vertexai-1.0.10-py3-none-any.whl.metadata (3.8 kB)\n",
      "Collecting openinference-instrumentation-langchain<0.2,>=0.1.19 (from google-cloud-aiplatform[langchain,reasoningengine])\n",
      "  Downloading openinference_instrumentation_langchain-0.1.28-py3-none-any.whl.metadata (4.8 kB)\n",
      "Collecting tenacity<=8.3 (from google-cloud-aiplatform[langchain,reasoningengine])\n",
      "  Downloading tenacity-8.3.0-py3-none-any.whl.metadata (1.2 kB)\n",
      "Collecting orjson<=3.10.6 (from google-cloud-aiplatform[langchain,reasoningengine])\n",
      "  Downloading orjson-3.10.6-cp310-cp310-manylinux_2_17_x86_64.manylinux2014_x86_64.whl.metadata (50 kB)\n",
      "\u001b[2K     \u001b[90m━━━━━━━━━━━━━━━━━━━━━━━━━━━━━━━━━━━━━━━━\u001b[0m \u001b[32m50.4/50.4 kB\u001b[0m \u001b[31m2.0 MB/s\u001b[0m eta \u001b[36m0:00:00\u001b[0m\n",
      "\u001b[?25hCollecting google-cloud-trace<2 (from google-cloud-aiplatform[langchain,reasoningengine])\n",
      "  Downloading google_cloud_trace-1.13.5-py2.py3-none-any.whl.metadata (5.2 kB)\n",
      "Requirement already satisfied: opentelemetry-sdk<2 in /opt/conda/lib/python3.10/site-packages (from google-cloud-aiplatform[langchain,reasoningengine]) (1.26.0)\n",
      "Collecting opentelemetry-exporter-gcp-trace<2 (from google-cloud-aiplatform[langchain,reasoningengine])\n",
      "  Downloading opentelemetry_exporter_gcp_trace-1.7.0-py3-none-any.whl.metadata (2.9 kB)\n",
      "Collecting google-api-core!=2.0.*,!=2.1.*,!=2.2.*,!=2.3.*,!=2.4.*,!=2.5.*,!=2.6.*,!=2.7.*,<3.0.0dev,>=1.34.1 (from google-api-core[grpc]!=2.0.*,!=2.1.*,!=2.2.*,!=2.3.*,!=2.4.*,!=2.5.*,!=2.6.*,!=2.7.*,<3.0.0dev,>=1.34.1->google-cloud-aiplatform[langchain,reasoningengine])\n",
      "  Downloading google_api_core-2.19.2-py3-none-any.whl.metadata (2.7 kB)\n",
      "Requirement already satisfied: google-cloud-core<3.0.0,>=2.4.1 in /opt/conda/lib/python3.10/site-packages (from langchain-google-community) (2.4.1)\n",
      "Requirement already satisfied: grpcio<2.0.0,>=1.62.0 in /opt/conda/lib/python3.10/site-packages (from langchain-google-community) (1.65.1)\n",
      "Collecting langchain-community<0.4.0,>=0.3.0 (from langchain-google-community)\n",
      "  Downloading langchain_community-0.3.0-py3-none-any.whl.metadata (2.8 kB)\n",
      "INFO: pip is looking at multiple versions of langchain-google-community to determine which version is compatible with other requirements. This could take a while.\n",
      "Collecting langchain-google-community\n",
      "  Downloading langchain_google_community-1.0.8-py3-none-any.whl.metadata (3.4 kB)\n",
      "Collecting langchain-community<0.3.0,>=0.2.1 (from langchain-google-community)\n",
      "  Downloading langchain_community-0.2.17-py3-none-any.whl.metadata (2.7 kB)\n",
      "Requirement already satisfied: httplib2<1.dev0,>=0.19.0 in /opt/conda/lib/python3.10/site-packages (from google-api-python-client) (0.22.0)\n",
      "Requirement already satisfied: google-auth-httplib2<1.0.0,>=0.2.0 in /opt/conda/lib/python3.10/site-packages (from google-api-python-client) (0.2.0)\n",
      "Requirement already satisfied: uritemplate<5,>=3.0.1 in /opt/conda/lib/python3.10/site-packages (from google-api-python-client) (3.0.1)\n",
      "Requirement already satisfied: charset-normalizer<4,>=2 in /opt/conda/lib/python3.10/site-packages (from requests) (3.3.2)\n",
      "Requirement already satisfied: idna<4,>=2.5 in /opt/conda/lib/python3.10/site-packages (from requests) (3.7)\n",
      "Requirement already satisfied: urllib3<3,>=1.21.1 in /opt/conda/lib/python3.10/site-packages (from requests) (1.26.19)\n",
      "Requirement already satisfied: certifi>=2017.4.17 in /opt/conda/lib/python3.10/site-packages (from requests) (2024.7.4)\n",
      "Requirement already satisfied: googleapis-common-protos<2.0.dev0,>=1.56.2 in /opt/conda/lib/python3.10/site-packages (from google-api-core!=2.0.*,!=2.1.*,!=2.2.*,!=2.3.*,!=2.4.*,!=2.5.*,!=2.6.*,!=2.7.*,<3.0.0dev,>=1.34.1->google-api-core[grpc]!=2.0.*,!=2.1.*,!=2.2.*,!=2.3.*,!=2.4.*,!=2.5.*,!=2.6.*,!=2.7.*,<3.0.0dev,>=1.34.1->google-cloud-aiplatform[langchain,reasoningengine]) (1.63.2)\n",
      "Requirement already satisfied: grpcio-status<2.0.dev0,>=1.33.2 in /opt/conda/lib/python3.10/site-packages (from google-api-core[grpc]!=2.0.*,!=2.1.*,!=2.2.*,!=2.3.*,!=2.4.*,!=2.5.*,!=2.6.*,!=2.7.*,<3.0.0dev,>=1.34.1->google-cloud-aiplatform[langchain,reasoningengine]) (1.48.2)\n",
      "Requirement already satisfied: cachetools<6.0,>=2.0.0 in /opt/conda/lib/python3.10/site-packages (from google-auth<3.0.0dev,>=2.14.1->google-cloud-aiplatform[langchain,reasoningengine]) (5.4.0)\n",
      "Requirement already satisfied: pyasn1-modules>=0.2.1 in /opt/conda/lib/python3.10/site-packages (from google-auth<3.0.0dev,>=2.14.1->google-cloud-aiplatform[langchain,reasoningengine]) (0.4.0)\n",
      "Requirement already satisfied: rsa<5,>=3.1.4 in /opt/conda/lib/python3.10/site-packages (from google-auth<3.0.0dev,>=2.14.1->google-cloud-aiplatform[langchain,reasoningengine]) (4.9)\n",
      "Requirement already satisfied: google-resumable-media<3.0dev,>=0.6.0 in /opt/conda/lib/python3.10/site-packages (from google-cloud-bigquery!=3.20.0,<4.0.0dev,>=1.15.0->google-cloud-aiplatform[langchain,reasoningengine]) (2.7.1)\n",
      "Requirement already satisfied: python-dateutil<3.0dev,>=2.7.2 in /opt/conda/lib/python3.10/site-packages (from google-cloud-bigquery!=3.20.0,<4.0.0dev,>=1.15.0->google-cloud-aiplatform[langchain,reasoningengine]) (2.9.0)\n",
      "Requirement already satisfied: grpc-google-iam-v1<1.0.0dev,>=0.12.4 in /opt/conda/lib/python3.10/site-packages (from google-cloud-resource-manager<3.0.0dev,>=1.3.3->google-cloud-aiplatform[langchain,reasoningengine]) (0.13.1)\n",
      "Requirement already satisfied: google-crc32c<2.0dev,>=1.0 in /opt/conda/lib/python3.10/site-packages (from google-cloud-storage<3.0.0dev,>=1.32.0->google-cloud-aiplatform[langchain,reasoningengine]) (1.5.0)\n",
      "Requirement already satisfied: pyparsing!=3.0.0,!=3.0.1,!=3.0.2,!=3.0.3,<4,>=2.4.2 in /opt/conda/lib/python3.10/site-packages (from httplib2<1.dev0,>=0.19.0->google-api-python-client) (3.1.2)\n",
      "Requirement already satisfied: PyYAML>=5.3 in /opt/conda/lib/python3.10/site-packages (from langchain<0.3,>=0.1.16->google-cloud-aiplatform[langchain,reasoningengine]) (6.0.1)\n",
      "Requirement already satisfied: SQLAlchemy<3,>=1.4 in /opt/conda/lib/python3.10/site-packages (from langchain<0.3,>=0.1.16->google-cloud-aiplatform[langchain,reasoningengine]) (2.0.31)\n",
      "Requirement already satisfied: aiohttp<4.0.0,>=3.8.3 in /opt/conda/lib/python3.10/site-packages (from langchain<0.3,>=0.1.16->google-cloud-aiplatform[langchain,reasoningengine]) (3.9.5)\n",
      "Requirement already satisfied: async-timeout<5.0.0,>=4.0.0 in /opt/conda/lib/python3.10/site-packages (from langchain<0.3,>=0.1.16->google-cloud-aiplatform[langchain,reasoningengine]) (4.0.3)\n",
      "Collecting langchain-text-splitters<0.3.0,>=0.2.0 (from langchain<0.3,>=0.1.16->google-cloud-aiplatform[langchain,reasoningengine])\n",
      "  Downloading langchain_text_splitters-0.2.4-py3-none-any.whl.metadata (2.3 kB)\n",
      "Collecting langsmith<0.2.0,>=0.1.17 (from langchain<0.3,>=0.1.16->google-cloud-aiplatform[langchain,reasoningengine])\n",
      "  Downloading langsmith-0.1.121-py3-none-any.whl.metadata (13 kB)\n",
      "Requirement already satisfied: numpy<2,>=1 in /opt/conda/lib/python3.10/site-packages (from langchain<0.3,>=0.1.16->google-cloud-aiplatform[langchain,reasoningengine]) (1.25.2)\n",
      "Collecting dataclasses-json<0.7,>=0.5.7 (from langchain-community<0.3.0,>=0.2.1->langchain-google-community)\n",
      "  Downloading dataclasses_json-0.6.7-py3-none-any.whl.metadata (25 kB)\n",
      "Requirement already satisfied: jsonpatch<2.0,>=1.33 in /opt/conda/lib/python3.10/site-packages (from langchain-core<0.3->google-cloud-aiplatform[langchain,reasoningengine]) (1.33)\n",
      "Collecting google-cloud-storage<3.0.0dev,>=1.32.0 (from google-cloud-aiplatform[langchain,reasoningengine])\n",
      "  Downloading google_cloud_storage-2.18.2-py2.py3-none-any.whl.metadata (9.1 kB)\n",
      "Requirement already satisfied: httpx<0.28.0,>=0.27.0 in /opt/conda/lib/python3.10/site-packages (from langchain-google-vertexai<2->google-cloud-aiplatform[langchain,reasoningengine]) (0.27.0)\n",
      "Collecting httpx-sse<0.5.0,>=0.4.0 (from langchain-google-vertexai<2->google-cloud-aiplatform[langchain,reasoningengine])\n",
      "  Downloading httpx_sse-0.4.0-py3-none-any.whl.metadata (9.0 kB)\n",
      "Collecting google-resumable-media<3.0dev,>=0.6.0 (from google-cloud-bigquery!=3.20.0,<4.0.0dev,>=1.15.0->google-cloud-aiplatform[langchain,reasoningengine])\n",
      "  Downloading google_resumable_media-2.7.2-py2.py3-none-any.whl.metadata (2.2 kB)\n",
      "Collecting openinference-instrumentation>=0.1.17 (from openinference-instrumentation-langchain<0.2,>=0.1.19->google-cloud-aiplatform[langchain,reasoningengine])\n",
      "  Downloading openinference_instrumentation-0.1.18-py3-none-any.whl.metadata (4.6 kB)\n",
      "Collecting openinference-semantic-conventions>=0.1.9 (from openinference-instrumentation-langchain<0.2,>=0.1.19->google-cloud-aiplatform[langchain,reasoningengine])\n",
      "  Downloading openinference_semantic_conventions-0.1.10-py3-none-any.whl.metadata (1.2 kB)\n",
      "Requirement already satisfied: opentelemetry-api in /opt/conda/lib/python3.10/site-packages (from openinference-instrumentation-langchain<0.2,>=0.1.19->google-cloud-aiplatform[langchain,reasoningengine]) (1.26.0)\n",
      "Collecting opentelemetry-instrumentation (from openinference-instrumentation-langchain<0.2,>=0.1.19->google-cloud-aiplatform[langchain,reasoningengine])\n",
      "  Downloading opentelemetry_instrumentation-0.48b0-py3-none-any.whl.metadata (6.1 kB)\n",
      "Requirement already satisfied: opentelemetry-semantic-conventions in /opt/conda/lib/python3.10/site-packages (from openinference-instrumentation-langchain<0.2,>=0.1.19->google-cloud-aiplatform[langchain,reasoningengine]) (0.47b0)\n",
      "Requirement already satisfied: wrapt in /opt/conda/lib/python3.10/site-packages (from openinference-instrumentation-langchain<0.2,>=0.1.19->google-cloud-aiplatform[langchain,reasoningengine]) (1.16.0)\n",
      "Collecting opentelemetry-resourcedetector-gcp==1.*,>=1.5.0dev0 (from opentelemetry-exporter-gcp-trace<2->google-cloud-aiplatform[langchain,reasoningengine])\n",
      "  Downloading opentelemetry_resourcedetector_gcp-1.7.0a0-py3-none-any.whl.metadata (2.0 kB)\n",
      "Requirement already satisfied: deprecated>=1.2.6 in /opt/conda/lib/python3.10/site-packages (from opentelemetry-api->openinference-instrumentation-langchain<0.2,>=0.1.19->google-cloud-aiplatform[langchain,reasoningengine]) (1.2.14)\n",
      "Requirement already satisfied: importlib-metadata<=8.0.0,>=6.0 in /opt/conda/lib/python3.10/site-packages (from opentelemetry-api->openinference-instrumentation-langchain<0.2,>=0.1.19->google-cloud-aiplatform[langchain,reasoningengine]) (7.0.0)\n",
      "Requirement already satisfied: aiosignal>=1.1.2 in /opt/conda/lib/python3.10/site-packages (from aiohttp<4.0.0,>=3.8.3->langchain<0.3,>=0.1.16->google-cloud-aiplatform[langchain,reasoningengine]) (1.3.1)\n",
      "Requirement already satisfied: attrs>=17.3.0 in /opt/conda/lib/python3.10/site-packages (from aiohttp<4.0.0,>=3.8.3->langchain<0.3,>=0.1.16->google-cloud-aiplatform[langchain,reasoningengine]) (23.2.0)\n",
      "Requirement already satisfied: frozenlist>=1.1.1 in /opt/conda/lib/python3.10/site-packages (from aiohttp<4.0.0,>=3.8.3->langchain<0.3,>=0.1.16->google-cloud-aiplatform[langchain,reasoningengine]) (1.4.1)\n",
      "Requirement already satisfied: multidict<7.0,>=4.5 in /opt/conda/lib/python3.10/site-packages (from aiohttp<4.0.0,>=3.8.3->langchain<0.3,>=0.1.16->google-cloud-aiplatform[langchain,reasoningengine]) (6.0.5)\n",
      "Requirement already satisfied: yarl<2.0,>=1.0 in /opt/conda/lib/python3.10/site-packages (from aiohttp<4.0.0,>=3.8.3->langchain<0.3,>=0.1.16->google-cloud-aiplatform[langchain,reasoningengine]) (1.9.4)\n",
      "Collecting marshmallow<4.0.0,>=3.18.0 (from dataclasses-json<0.7,>=0.5.7->langchain-community<0.3.0,>=0.2.1->langchain-google-community)\n",
      "  Downloading marshmallow-3.22.0-py3-none-any.whl.metadata (7.2 kB)\n",
      "Collecting typing-inspect<1,>=0.4.0 (from dataclasses-json<0.7,>=0.5.7->langchain-community<0.3.0,>=0.2.1->langchain-google-community)\n",
      "  Downloading typing_inspect-0.9.0-py3-none-any.whl.metadata (1.5 kB)\n",
      "Requirement already satisfied: anyio in /opt/conda/lib/python3.10/site-packages (from httpx<0.28.0,>=0.27.0->langchain-google-vertexai<2->google-cloud-aiplatform[langchain,reasoningengine]) (4.4.0)\n",
      "Requirement already satisfied: httpcore==1.* in /opt/conda/lib/python3.10/site-packages (from httpx<0.28.0,>=0.27.0->langchain-google-vertexai<2->google-cloud-aiplatform[langchain,reasoningengine]) (1.0.5)\n",
      "Requirement already satisfied: sniffio in /opt/conda/lib/python3.10/site-packages (from httpx<0.28.0,>=0.27.0->langchain-google-vertexai<2->google-cloud-aiplatform[langchain,reasoningengine]) (1.3.1)\n",
      "Requirement already satisfied: h11<0.15,>=0.13 in /opt/conda/lib/python3.10/site-packages (from httpcore==1.*->httpx<0.28.0,>=0.27.0->langchain-google-vertexai<2->google-cloud-aiplatform[langchain,reasoningengine]) (0.14.0)\n",
      "Requirement already satisfied: jsonpointer>=1.9 in /opt/conda/lib/python3.10/site-packages (from jsonpatch<2.0,>=1.33->langchain-core<0.3->google-cloud-aiplatform[langchain,reasoningengine]) (3.0.0)\n",
      "Requirement already satisfied: pyasn1<0.7.0,>=0.4.6 in /opt/conda/lib/python3.10/site-packages (from pyasn1-modules>=0.2.1->google-auth<3.0.0dev,>=2.14.1->google-cloud-aiplatform[langchain,reasoningengine]) (0.6.0)\n",
      "Requirement already satisfied: six>=1.5 in /opt/conda/lib/python3.10/site-packages (from python-dateutil<3.0dev,>=2.7.2->google-cloud-bigquery!=3.20.0,<4.0.0dev,>=1.15.0->google-cloud-aiplatform[langchain,reasoningengine]) (1.16.0)\n",
      "Requirement already satisfied: greenlet!=0.4.17 in /opt/conda/lib/python3.10/site-packages (from SQLAlchemy<3,>=1.4->langchain<0.3,>=0.1.16->google-cloud-aiplatform[langchain,reasoningengine]) (3.0.3)\n",
      "Requirement already satisfied: setuptools>=16.0 in /opt/conda/lib/python3.10/site-packages (from opentelemetry-instrumentation->openinference-instrumentation-langchain<0.2,>=0.1.19->google-cloud-aiplatform[langchain,reasoningengine]) (71.0.4)\n",
      "Requirement already satisfied: zipp>=0.5 in /opt/conda/lib/python3.10/site-packages (from importlib-metadata<=8.0.0,>=6.0->opentelemetry-api->openinference-instrumentation-langchain<0.2,>=0.1.19->google-cloud-aiplatform[langchain,reasoningengine]) (3.19.2)\n",
      "Collecting mypy-extensions>=0.3.0 (from typing-inspect<1,>=0.4.0->dataclasses-json<0.7,>=0.5.7->langchain-community<0.3.0,>=0.2.1->langchain-google-community)\n",
      "  Downloading mypy_extensions-1.0.0-py3-none-any.whl.metadata (1.1 kB)\n",
      "Requirement already satisfied: exceptiongroup>=1.0.2 in /opt/conda/lib/python3.10/site-packages (from anyio->httpx<0.28.0,>=0.27.0->langchain-google-vertexai<2->google-cloud-aiplatform[langchain,reasoningengine]) (1.2.2)\n",
      "Downloading pydantic-2.7.4-py3-none-any.whl (409 kB)\n",
      "\u001b[2K   \u001b[90m━━━━━━━━━━━━━━━━━━━━━━━━━━━━━━━━━━━━━━━━\u001b[0m \u001b[32m409.0/409.0 kB\u001b[0m \u001b[31m2.2 MB/s\u001b[0m eta \u001b[36m0:00:00\u001b[0m00:01\u001b[0m00:01\u001b[0m\n",
      "\u001b[?25hDownloading pydantic_core-2.18.4-cp310-cp310-manylinux_2_17_x86_64.manylinux2014_x86_64.whl (2.0 MB)\n",
      "\u001b[2K   \u001b[90m━━━━━━━━━━━━━━━━━━━━━━━━━━━━━━━━━━━━━━━━\u001b[0m \u001b[32m2.0/2.0 MB\u001b[0m \u001b[31m2.0 MB/s\u001b[0m eta \u001b[36m0:00:00\u001b[0m00:01\u001b[0m00:01\u001b[0m\n",
      "\u001b[?25hDownloading langchain_google_community-1.0.8-py3-none-any.whl (75 kB)\n",
      "\u001b[2K   \u001b[90m━━━━━━━━━━━━━━━━━━━━━━━━━━━━━━━━━━━━━━━━\u001b[0m \u001b[32m75.6/75.6 kB\u001b[0m \u001b[31m1.1 MB/s\u001b[0m eta \u001b[36m0:00:00\u001b[0ma \u001b[36m0:00:01\u001b[0m\n",
      "\u001b[?25hDownloading google_cloud_discoveryengine-0.12.2-py3-none-any.whl (2.5 MB)\n",
      "\u001b[2K   \u001b[90m━━━━━━━━━━━━━━━━━━━━━━━━━━━━━━━━━━━━━━━━\u001b[0m \u001b[32m2.5/2.5 MB\u001b[0m \u001b[31m1.1 MB/s\u001b[0m eta \u001b[36m0:00:00\u001b[0m00:01\u001b[0m00:01\u001b[0m\n",
      "\u001b[?25hDownloading google_api_python_client-2.146.0-py2.py3-none-any.whl (12.2 MB)\n",
      "\u001b[2K   \u001b[90m━━━━━━━━━━━━━━━━━━━━━━━━━━━━━━━━━━━━━━━━\u001b[0m \u001b[32m12.2/12.2 MB\u001b[0m \u001b[31m800.3 kB/s\u001b[0m eta \u001b[36m0:00:00\u001b[0m00:01\u001b[0m00:01\u001b[0m\n",
      "\u001b[?25hDownloading annotated_types-0.7.0-py3-none-any.whl (13 kB)\n",
      "Downloading google_api_core-2.19.2-py3-none-any.whl (139 kB)\n",
      "\u001b[2K   \u001b[90m━━━━━━━━━━━━━━━━━━━━━━━━━━━━━━━━━━━━━━━\u001b[0m \u001b[32m139.4/139.4 kB\u001b[0m \u001b[31m876.9 kB/s\u001b[0m eta \u001b[36m0:00:00\u001b[0ma \u001b[36m0:00:01\u001b[0m\n",
      "\u001b[?25hDownloading google_cloud_trace-1.13.5-py2.py3-none-any.whl (90 kB)\n",
      "\u001b[2K   \u001b[90m━━━━━━━━━━━━━━━━━━━━━━━━━━━━━━━━━━━━━━━━\u001b[0m \u001b[32m90.2/90.2 kB\u001b[0m \u001b[31m915.3 kB/s\u001b[0m eta \u001b[36m0:00:00\u001b[0m\u001b[36m0:00:01\u001b[0m\n",
      "\u001b[?25hDownloading langchain-0.2.16-py3-none-any.whl (1.0 MB)\n",
      "\u001b[2K   \u001b[90m━━━━━━━━━━━━━━━━━━━━━━━━━━━━━━━━━━━━━━━━\u001b[0m \u001b[32m1.0/1.0 MB\u001b[0m \u001b[31m661.6 kB/s\u001b[0m eta \u001b[36m0:00:00\u001b[0m00:01\u001b[0m00:01\u001b[0m\n",
      "\u001b[?25hDownloading langchain_community-0.2.17-py3-none-any.whl (2.3 MB)\n",
      "\u001b[2K   \u001b[90m━━━━━━━━━━━━━━━━━━━━━━━━━━━━━━━━━━━━━━━━\u001b[0m \u001b[32m2.3/2.3 MB\u001b[0m \u001b[31m847.6 kB/s\u001b[0m eta \u001b[36m0:00:00\u001b[0m00:01\u001b[0m00:01\u001b[0m\n",
      "\u001b[?25hDownloading langchain_core-0.2.40-py3-none-any.whl (396 kB)\n",
      "\u001b[2K   \u001b[90m━━━━━━━━━━━━━━━━━━━━━━━━━━━━━━━━━━━━━━━\u001b[0m \u001b[32m397.0/397.0 kB\u001b[0m \u001b[31m869.1 kB/s\u001b[0m eta \u001b[36m0:00:00\u001b[0m00:01\u001b[0m00:01\u001b[0m\n",
      "\u001b[?25hDownloading langchain_google_vertexai-1.0.10-py3-none-any.whl (86 kB)\n",
      "\u001b[2K   \u001b[90m━━━━━━━━━━━━━━━━━━━━━━━━━━━━━━━━━━━━━━━━\u001b[0m \u001b[32m86.0/86.0 kB\u001b[0m \u001b[31m789.6 kB/s\u001b[0m eta \u001b[36m0:00:00\u001b[0ma \u001b[36m0:00:01\u001b[0m\n",
      "\u001b[?25hDownloading google_cloud_aiplatform-1.66.0-py2.py3-none-any.whl (5.2 MB)\n",
      "\u001b[2K   \u001b[90m━━━━━━━━━━━━━━━━━━━━━━━━━━━━━━━━━━━━━━━━\u001b[0m \u001b[32m5.2/5.2 MB\u001b[0m \u001b[31m628.8 kB/s\u001b[0m eta \u001b[36m0:00:00\u001b[0m00:01\u001b[0m00:01\u001b[0m\n",
      "\u001b[?25hDownloading google_cloud_storage-2.18.2-py2.py3-none-any.whl (130 kB)\n",
      "\u001b[2K   \u001b[90m━━━━━━━━━━━━━━━━━━━━━━━━━━━━━━━━━━━━━━━\u001b[0m \u001b[32m130.5/130.5 kB\u001b[0m \u001b[31m784.6 kB/s\u001b[0m eta \u001b[36m0:00:00\u001b[0ma \u001b[36m0:00:01\u001b[0m\n",
      "\u001b[?25hDownloading openinference_instrumentation_langchain-0.1.28-py3-none-any.whl (16 kB)\n",
      "Downloading opentelemetry_exporter_gcp_trace-1.7.0-py3-none-any.whl (13 kB)\n",
      "Downloading opentelemetry_resourcedetector_gcp-1.7.0a0-py3-none-any.whl (20 kB)\n",
      "Downloading orjson-3.10.6-cp310-cp310-manylinux_2_17_x86_64.manylinux2014_x86_64.whl (141 kB)\n",
      "\u001b[2K   \u001b[90m━━━━━━━━━━━━━━━━━━━━━━━━━━━━━━━━━━━━━━━\u001b[0m \u001b[32m141.1/141.1 kB\u001b[0m \u001b[31m901.7 kB/s\u001b[0m eta \u001b[36m0:00:00\u001b[0ma \u001b[36m0:00:01\u001b[0m\n",
      "\u001b[?25hDownloading tenacity-8.3.0-py3-none-any.whl (25 kB)\n",
      "Downloading dataclasses_json-0.6.7-py3-none-any.whl (28 kB)\n",
      "Downloading google_resumable_media-2.7.2-py2.py3-none-any.whl (81 kB)\n",
      "\u001b[2K   \u001b[90m━━━━━━━━━━━━━━━━━━━━━━━━━━━━━━━━━━━━━━━━\u001b[0m \u001b[32m81.3/81.3 kB\u001b[0m \u001b[31m858.4 kB/s\u001b[0m eta \u001b[36m0:00:00\u001b[0m\u001b[36m0:00:01\u001b[0m\n",
      "\u001b[?25hDownloading httpx_sse-0.4.0-py3-none-any.whl (7.8 kB)\n",
      "Downloading langchain_text_splitters-0.2.4-py3-none-any.whl (25 kB)\n",
      "Downloading langsmith-0.1.121-py3-none-any.whl (289 kB)\n",
      "\u001b[2K   \u001b[90m━━━━━━━━━━━━━━━━━━━━━━━━━━━━━━━━━━━━━━━\u001b[0m \u001b[32m289.9/289.9 kB\u001b[0m \u001b[31m662.5 kB/s\u001b[0m eta \u001b[36m0:00:00\u001b[0m00:01\u001b[0m00:01\u001b[0m\n",
      "\u001b[?25hDownloading openinference_instrumentation-0.1.18-py3-none-any.whl (14 kB)\n",
      "Downloading openinference_semantic_conventions-0.1.10-py3-none-any.whl (8.9 kB)\n",
      "Downloading opentelemetry_instrumentation-0.48b0-py3-none-any.whl (29 kB)\n",
      "Downloading marshmallow-3.22.0-py3-none-any.whl (49 kB)\n",
      "\u001b[2K   \u001b[90m━━━━━━━━━━━━━━━━━━━━━━━━━━━━━━━━━━━━━━━━\u001b[0m \u001b[32m49.3/49.3 kB\u001b[0m \u001b[31m576.1 kB/s\u001b[0m eta \u001b[36m0:00:00\u001b[0ma \u001b[36m0:00:01\u001b[0m\n",
      "\u001b[?25hDownloading typing_inspect-0.9.0-py3-none-any.whl (8.8 kB)\n",
      "Downloading mypy_extensions-1.0.0-py3-none-any.whl (4.7 kB)\n",
      "Installing collected packages: tenacity, pydantic-core, orjson, openinference-semantic-conventions, mypy-extensions, marshmallow, httpx-sse, google-resumable-media, annotated-types, typing-inspect, pydantic, opentelemetry-instrumentation, langsmith, google-api-core, dataclasses-json, langchain-core, google-api-python-client, opentelemetry-resourcedetector-gcp, openinference-instrumentation, langchain-text-splitters, google-cloud-trace, google-cloud-storage, google-cloud-discoveryengine, opentelemetry-exporter-gcp-trace, openinference-instrumentation-langchain, langchain, google-cloud-aiplatform, langchain-google-vertexai, langchain-community, langchain-google-community\n",
      "  Attempting uninstall: tenacity\n",
      "    Found existing installation: tenacity 9.0.0\n",
      "    Uninstalling tenacity-9.0.0:\n",
      "      Successfully uninstalled tenacity-9.0.0\n",
      "  Attempting uninstall: google-resumable-media\n",
      "    Found existing installation: google-resumable-media 2.7.1\n",
      "    Uninstalling google-resumable-media-2.7.1:\n",
      "      Successfully uninstalled google-resumable-media-2.7.1\n",
      "  Attempting uninstall: pydantic\n",
      "    Found existing installation: pydantic 1.10.17\n",
      "    Uninstalling pydantic-1.10.17:\n",
      "      Successfully uninstalled pydantic-1.10.17\n",
      "  Attempting uninstall: google-api-core\n",
      "    Found existing installation: google-api-core 1.34.1\n",
      "    Uninstalling google-api-core-1.34.1:\n",
      "      Successfully uninstalled google-api-core-1.34.1\n",
      "  Attempting uninstall: google-api-python-client\n",
      "    Found existing installation: google-api-python-client 1.8.0\n",
      "    Uninstalling google-api-python-client-1.8.0:\n",
      "      Successfully uninstalled google-api-python-client-1.8.0\n",
      "  Attempting uninstall: google-cloud-storage\n",
      "    Found existing installation: google-cloud-storage 2.14.0\n",
      "    Uninstalling google-cloud-storage-2.14.0:\n",
      "      Successfully uninstalled google-cloud-storage-2.14.0\n",
      "  Attempting uninstall: google-cloud-aiplatform\n",
      "    Found existing installation: google-cloud-aiplatform 1.60.0\n",
      "    Uninstalling google-cloud-aiplatform-1.60.0:\n",
      "      Successfully uninstalled google-cloud-aiplatform-1.60.0\n",
      "\u001b[31mERROR: pip's dependency resolver does not currently take into account all the packages that are installed. This behaviour is the source of the following dependency conflicts.\n",
      "cloud-tpu-client 0.10 requires google-api-python-client==1.8.0, but you have google-api-python-client 2.146.0 which is incompatible.\n",
      "dataproc-jupyter-plugin 0.1.80 requires pydantic~=1.10.0, but you have pydantic 2.7.4 which is incompatible.\n",
      "ydata-profiling 4.6.0 requires pydantic<2,>=1.8.1, but you have pydantic 2.7.4 which is incompatible.\u001b[0m\u001b[31m\n",
      "\u001b[0mSuccessfully installed annotated-types-0.7.0 dataclasses-json-0.6.7 google-api-core-2.19.2 google-api-python-client-2.146.0 google-cloud-aiplatform-1.66.0 google-cloud-discoveryengine-0.12.2 google-cloud-storage-2.18.2 google-cloud-trace-1.13.5 google-resumable-media-2.7.2 httpx-sse-0.4.0 langchain-0.2.16 langchain-community-0.2.17 langchain-core-0.2.40 langchain-google-community-1.0.8 langchain-google-vertexai-1.0.10 langchain-text-splitters-0.2.4 langsmith-0.1.121 marshmallow-3.22.0 mypy-extensions-1.0.0 openinference-instrumentation-0.1.18 openinference-instrumentation-langchain-0.1.28 openinference-semantic-conventions-0.1.10 opentelemetry-exporter-gcp-trace-1.7.0 opentelemetry-instrumentation-0.48b0 opentelemetry-resourcedetector-gcp-1.7.0a0 orjson-3.10.6 pydantic-2.7.4 pydantic-core-2.18.4 tenacity-8.3.0 typing-inspect-0.9.0\n",
      "\u001b[33mWARNING: Running pip as the 'root' user can result in broken permissions and conflicting behaviour with the system package manager. It is recommended to use a virtual environment instead: https://pip.pypa.io/warnings/venv\u001b[0m\u001b[33m\n",
      "\u001b[0m"
     ]
    }
   ],
   "source": [
    "!pip install --upgrade \"google-cloud-aiplatform[langchain,reasoningengine]\" cloudpickle==3.0.0 pydantic==2.7.4 langchain-google-community google-cloud-discoveryengine google-api-python-client requests"
   ]
  },
  {
   "cell_type": "code",
   "execution_count": 2,
   "id": "c4db08be-20cf-4872-9ea6-e354227c8266",
   "metadata": {
    "tags": []
   },
   "outputs": [
    {
     "data": {
      "text/plain": [
       "{'status': 'ok', 'restart': True}"
      ]
     },
     "execution_count": 2,
     "metadata": {},
     "output_type": "execute_result"
    }
   ],
   "source": [
    "import IPython\n",
    "\n",
    "app = IPython.Application.instance()\n",
    "app.kernel.do_shutdown(True)"
   ]
  },
  {
   "cell_type": "code",
   "execution_count": 1,
   "id": "ff09ba06-3820-44de-a603-13cfa1eda232",
   "metadata": {
    "tags": []
   },
   "outputs": [],
   "source": [
    "PROJECT_ID = \"qwiklabs-gcp-02-a5369b2dfad3\"  \n",
    "LOCATION = \"us-central1\"\n",
    "STAGING_BUCKET = \"gs://qwiklabs-gcp-02-a5369b2dfad3\"  \n",
    "\n",
    "import vertexai\n",
    "\n",
    "vertexai.init(project=PROJECT_ID, location=LOCATION, staging_bucket=STAGING_BUCKET)"
   ]
  },
  {
   "cell_type": "code",
   "execution_count": 2,
   "id": "15636a90-cdf6-4e1d-9779-dae26dd23dbd",
   "metadata": {
    "tags": []
   },
   "outputs": [],
   "source": [
    "from googleapiclient import discovery\n",
    "from IPython.display import display, Markdown\n",
    "from langchain.agents.format_scratchpad.tools import format_to_tool_messages\n",
    "from langchain_core import prompts\n",
    "from langchain.memory import ChatMessageHistory\n",
    "from vertexai.preview import reasoning_engines"
   ]
  },
  {
   "cell_type": "code",
   "execution_count": 3,
   "id": "ce0b36e8-1435-41dd-a387-18bf0e467d63",
   "metadata": {
    "tags": []
   },
   "outputs": [],
   "source": [
    "model = \"gemini-1.5-pro-001\""
   ]
  },
  {
   "cell_type": "code",
   "execution_count": 10,
   "id": "f4fbedac-0c76-471e-a1dd-ddaebcdeaab4",
   "metadata": {},
   "outputs": [],
   "source": [
    "DATA_STORE_ID = \"cymbal-movie-data-store_1726607760029\"\n",
    "LOCATION_ID = \"global\""
   ]
  },
  {
   "cell_type": "code",
   "execution_count": 11,
   "id": "a3db90b6-0fcc-44fa-a080-f7dfe6ec2bfd",
   "metadata": {
    "tags": []
   },
   "outputs": [],
   "source": [
    "def search_kaggle_movies(query: str) -> str:\n",
    "    \"\"\"Search across records in the Kaggle Movies data set.\"\"\"\n",
    "    from langchain_google_community import VertexAISearchRetriever\n",
    "\n",
    "    retriever = VertexAISearchRetriever(\n",
    "        project_id=PROJECT_ID,\n",
    "        data_store_id=DATA_STORE_ID,\n",
    "        location_id=LOCATION_ID,\n",
    "        engine_data_type=1,\n",
    "        max_documents=10,\n",
    "    )\n",
    "\n",
    "    result = str(retriever.invoke(query))\n",
    "    return result"
   ]
  },
  {
   "cell_type": "code",
   "execution_count": 12,
   "id": "e9dc3e02-23af-4678-8c1a-c78154ddf77a",
   "metadata": {
    "tags": []
   },
   "outputs": [
    {
     "data": {
      "text/plain": [
       "'[Document(metadata={\\'id\\': \\'dd68385e2b3e0a0ddd497d5eb1a9dcc9\\', \\'name\\': \\'projects/573274662810/locations/global/collections/default_collection/dataStores/cymbal-movie-data-store_1726607760029/branches/0/documents/dd68385e2b3e0a0ddd497d5eb1a9dcc9\\'}, page_content=\\'{\"vote_average\": 7.4, \"poster_path\": \"https://image.tmdb.org/t/p/original/5aOyriWkPec0zUDxmHFP9qMmBaj.jpg\", \"spoken_languages\": \"[{\\\\\\'iso_639_1\\\\\\': \\\\\\'en\\\\\\', \\\\\\'name\\\\\\': \\\\\\'English\\\\\\'}]\", \"overview\": \"Returning for his fifth year of study at Hogwarts, Harry is stunned to find that his warnings about the return of Lord Voldemort have been ignored. Left with no choice, Harry takes matters into his own hands, training a small group of students \\\\\\\\u2013 dubbed \\\\\\'Dumbledore\\\\\\'s Army\\\\\\' \\\\\\\\u2013 to defend themselves against the dark arts.\", \"imdb_id\": \"tt0373889\", \"vote_count\": \"5633\", \"genres\": \"[{\\\\\\'id\\\\\\': 12, \\\\\\'name\\\\\\': \\\\\\'Adventure\\\\\\'}, {\\\\\\'id\\\\\\': 14, \\\\\\'name\\\\\\': \\\\\\'Fantasy\\\\\\'}, {\\\\\\'id\\\\\\': 10751, \\\\\\'name\\\\\\': \\\\\\'Family\\\\\\'}, {\\\\\\'id\\\\\\': 9648, \\\\\\'name\\\\\\': \\\\\\'Mystery\\\\\\'}]\", \"title\": \"Harry Potter and the Order of the Phoenix\", \"belongs_to_collection\": \"{\\\\\\'id\\\\\\': 1241, \\\\\\'name\\\\\\': \\\\\\'Harry Potter Collection\\\\\\', \\\\\\'poster_path\\\\\\': \\\\\\'/8Xmkc1HvCOpMlbFvVabrtr6HAsp.jpg\\\\\\', \\\\\\'backdrop_path\\\\\\': \\\\\\'/wfnMt6LGqYHcNyOfsuusw5lX3bL.jpg\\\\\\'}\", \"runtime\": \"138\", \"tagline\": \"Evil Must Be Confronted.\", \"id\": \"675\", \"budget\": \"150000000\", \"release_date\": \"2007-06-28\", \"status\": \"Released\", \"production_countries\": \"[{\\\\\\'iso_3166_1\\\\\\': \\\\\\'GB\\\\\\', \\\\\\'name\\\\\\': \\\\\\'United Kingdom\\\\\\'}, {\\\\\\'iso_3166_1\\\\\\': \\\\\\'US\\\\\\', \\\\\\'name\\\\\\': \\\\\\'United States of America\\\\\\'}]\", \"original_language\": \"en\", \"original_title\": \"Harry Potter and the Order of the Phoenix\", \"revenue\": \"938212738\", \"popularity\": 21.3643, \"homepage\": \"http://www.harrypotterorderofthephoenix.com/\", \"production_companies\": \"[{\\\\\\'name\\\\\\': \\\\\\'Warner Bros.\\\\\\', \\\\\\'id\\\\\\': 6194}, {\\\\\\'name\\\\\\': \\\\\\'Heyday Films\\\\\\', \\\\\\'id\\\\\\': 7364}]\"}\\'), Document(metadata={\\'id\\': \\'29ee1c310b586c64c91144d25c812e67\\', \\'name\\': \\'projects/573274662810/locations/global/collections/default_collection/dataStores/cymbal-movie-data-store_1726607760029/branches/0/documents/29ee1c310b586c64c91144d25c812e67\\'}, page_content=\\'{\"genres\": \"[{\\\\\\'id\\\\\\': 12, \\\\\\'name\\\\\\': \\\\\\'Adventure\\\\\\'}, {\\\\\\'id\\\\\\': 14, \\\\\\'name\\\\\\': \\\\\\'Fantasy\\\\\\'}, {\\\\\\'id\\\\\\': 10751, \\\\\\'name\\\\\\': \\\\\\'Family\\\\\\'}]\", \"status\": \"Released\", \"poster_path\": \"https://image.tmdb.org/t/p/original/wuMc08IPKEatf9rnMNXvIDxqP4W.jpg\", \"original_language\": \"en\", \"overview\": \"Harry Potter has lived under the stairs at his aunt and uncle\\\\\\'s house his whole life. But on his 11th birthday, he learns he\\\\\\'s a powerful wizard -- with a place waiting for him at the Hogwarts School of Witchcraft and Wizardry. As he learns to harness his newfound powers with the help of the school\\\\\\'s kindly headmaster, Harry uncovers the truth about his parents\\\\\\' deaths -- and about the villain who\\\\\\'s to blame.\", \"production_countries\": \"[{\\\\\\'iso_3166_1\\\\\\': \\\\\\'GB\\\\\\', \\\\\\'name\\\\\\': \\\\\\'United Kingdom\\\\\\'}, {\\\\\\'iso_3166_1\\\\\\': \\\\\\'US\\\\\\', \\\\\\'name\\\\\\': \\\\\\'United States of America\\\\\\'}]\", \"homepage\": \"http://harrypotter.warnerbros.com/harrypotterandthedeathlyhallows/mainsite/index.html\", \"popularity\": 38.187238, \"title\": \"Harry Potter and the Philosopher\\\\\\'s Stone\", \"production_companies\": \"[{\\\\\\'name\\\\\\': \\\\\\'1492 Pictures\\\\\\', \\\\\\'id\\\\\\': 436}, {\\\\\\'name\\\\\\': \\\\\\'Warner Bros.\\\\\\', \\\\\\'id\\\\\\': 6194}, {\\\\\\'name\\\\\\': \\\\\\'Heyday Films\\\\\\', \\\\\\'id\\\\\\': 7364}]\", \"vote_average\": 7.5, \"imdb_id\": \"tt0241527\", \"id\": \"671\", \"revenue\": \"976475550\", \"budget\": \"125000000\", \"original_title\": \"Harry Potter and the Philosopher\\\\\\'s Stone\", \"spoken_languages\": \"[{\\\\\\'iso_639_1\\\\\\': \\\\\\'en\\\\\\', \\\\\\'name\\\\\\': \\\\\\'English\\\\\\'}]\", \"release_date\": \"2001-11-16\", \"belongs_to_collection\": \"{\\\\\\'id\\\\\\': 1241, \\\\\\'name\\\\\\': \\\\\\'Harry Potter Collection\\\\\\', \\\\\\'poster_path\\\\\\': \\\\\\'/8Xmkc1HvCOpMlbFvVabrtr6HAsp.jpg\\\\\\', \\\\\\'backdrop_path\\\\\\': \\\\\\'/wfnMt6LGqYHcNyOfsuusw5lX3bL.jpg\\\\\\'}\", \"runtime\": \"152\", \"vote_count\": \"7188\", \"tagline\": \"Let the Magic Begin.\"}\\'), Document(metadata={\\'id\\': \\'ffd182e05dda67f8f4faefd18a9a0d11\\', \\'name\\': \\'projects/573274662810/locations/global/collections/default_collection/dataStores/cymbal-movie-data-store_1726607760029/branches/0/documents/ffd182e05dda67f8f4faefd18a9a0d11\\'}, page_content=\\'{\"poster_path\": \"https://image.tmdb.org/t/p/original/6sASqcdrEHXxUhA3nFpjrRecPD2.jpg\", \"tagline\": \"Dark And Difficult Times Lie Ahead.\", \"overview\": \"Harry starts his fourth year at Hogwarts, competes in the treacherous Triwizard Tournament and faces the evil Lord Voldemort. Ron and Hermione help Harry manage the pressure \\\\\\\\u2013 but Voldemort lurks, awaiting his chance to destroy Harry and all that he stands for.\", \"original_title\": \"Harry Potter and the Goblet of Fire\", \"imdb_id\": \"tt0330373\", \"budget\": \"150000000\", \"production_countries\": \"[{\\\\\\'iso_3166_1\\\\\\': \\\\\\'GB\\\\\\', \\\\\\'name\\\\\\': \\\\\\'United Kingdom\\\\\\'}, {\\\\\\'iso_3166_1\\\\\\': \\\\\\'US\\\\\\', \\\\\\'name\\\\\\': \\\\\\'United States of America\\\\\\'}]\", \"production_companies\": \"[{\\\\\\'name\\\\\\': \\\\\\'Patalex IV Productions Limited\\\\\\', \\\\\\'id\\\\\\': 462}, {\\\\\\'name\\\\\\': \\\\\\'Warner Bros.\\\\\\', \\\\\\'id\\\\\\': 6194}, {\\\\\\'name\\\\\\': \\\\\\'Heyday Films\\\\\\', \\\\\\'id\\\\\\': 7364}]\", \"id\": \"674\", \"homepage\": \"http://harrypotter.warnerbros.com/\", \"vote_count\": \"5758\", \"popularity\": 24.903058, \"genres\": \"[{\\\\\\'id\\\\\\': 12, \\\\\\'name\\\\\\': \\\\\\'Adventure\\\\\\'}, {\\\\\\'id\\\\\\': 14, \\\\\\'name\\\\\\': \\\\\\'Fantasy\\\\\\'}, {\\\\\\'id\\\\\\': 10751, \\\\\\'name\\\\\\': \\\\\\'Family\\\\\\'}]\", \"title\": \"Harry Potter and the Goblet of Fire\", \"belongs_to_collection\": \"{\\\\\\'id\\\\\\': 1241, \\\\\\'name\\\\\\': \\\\\\'Harry Potter Collection\\\\\\', \\\\\\'poster_path\\\\\\': \\\\\\'/8Xmkc1HvCOpMlbFvVabrtr6HAsp.jpg\\\\\\', \\\\\\'backdrop_path\\\\\\': \\\\\\'/wfnMt6LGqYHcNyOfsuusw5lX3bL.jpg\\\\\\'}\", \"status\": \"Released\", \"revenue\": \"895921036\", \"spoken_languages\": \"[{\\\\\\'iso_639_1\\\\\\': \\\\\\'en\\\\\\', \\\\\\'name\\\\\\': \\\\\\'English\\\\\\'}, {\\\\\\'iso_639_1\\\\\\': \\\\\\'fr\\\\\\', \\\\\\'name\\\\\\': \\\\\\'Fran\\\\\\\\u00e7ais\\\\\\'}]\", \"original_language\": \"en\", \"runtime\": \"157\", \"vote_average\": 7.5, \"release_date\": \"2005-11-05\"}\\'), Document(metadata={\\'id\\': \\'f8b1d06fff000a31dd2b7edd134b71bf\\', \\'name\\': \\'projects/573274662810/locations/global/collections/default_collection/dataStores/cymbal-movie-data-store_1726607760029/branches/0/documents/f8b1d06fff000a31dd2b7edd134b71bf\\'}, page_content=\\'{\"poster_path\": \"https://image.tmdb.org/t/p/original/iGoXIpQb7Pot00EEdwpwPajheZ5.jpg\", \"id\": \"12444\", \"budget\": \"250000000\", \"original_title\": \"Harry Potter and the Deathly Hallows: Part 1\", \"original_language\": \"en\", \"vote_count\": \"5708\", \"status\": \"Released\", \"title\": \"Harry Potter and the Deathly Hallows: Part 1\", \"popularity\": 23.300362, \"revenue\": \"954305868\", \"spoken_languages\": \"[{\\\\\\'iso_639_1\\\\\\': \\\\\\'en\\\\\\', \\\\\\'name\\\\\\': \\\\\\'English\\\\\\'}]\", \"belongs_to_collection\": \"{\\\\\\'id\\\\\\': 1241, \\\\\\'name\\\\\\': \\\\\\'Harry Potter Collection\\\\\\', \\\\\\'poster_path\\\\\\': \\\\\\'/8Xmkc1HvCOpMlbFvVabrtr6HAsp.jpg\\\\\\', \\\\\\'backdrop_path\\\\\\': \\\\\\'/wfnMt6LGqYHcNyOfsuusw5lX3bL.jpg\\\\\\'}\", \"overview\": \"Harry, Ron and Hermione walk away from their last year at Hogwarts to find and destroy the remaining Horcruxes, putting an end to Voldemort\\\\\\'s bid for immortality. But with Harry\\\\\\'s beloved Dumbledore dead and Voldemort\\\\\\'s unscrupulous Death Eaters on the loose, the world is more dangerous than ever.\", \"release_date\": \"2010-10-17\", \"runtime\": \"146\", \"tagline\": \"One Way\\\\\\\\u2026 One Fate\\\\\\\\u2026 One Hero.\", \"production_countries\": \"[{\\\\\\'iso_3166_1\\\\\\': \\\\\\'GB\\\\\\', \\\\\\'name\\\\\\': \\\\\\'United Kingdom\\\\\\'}, {\\\\\\'iso_3166_1\\\\\\': \\\\\\'US\\\\\\', \\\\\\'name\\\\\\': \\\\\\'United States of America\\\\\\'}]\", \"production_companies\": \"[{\\\\\\'name\\\\\\': \\\\\\'Warner Bros.\\\\\\', \\\\\\'id\\\\\\': 6194}, {\\\\\\'name\\\\\\': \\\\\\'Heyday Films\\\\\\', \\\\\\'id\\\\\\': 7364}]\", \"vote_average\": 7.5, \"imdb_id\": \"tt0926084\", \"homepage\": \"http://www.harrypotter.com\", \"genres\": \"[{\\\\\\'id\\\\\\': 12, \\\\\\'name\\\\\\': \\\\\\'Adventure\\\\\\'}, {\\\\\\'id\\\\\\': 14, \\\\\\'name\\\\\\': \\\\\\'Fantasy\\\\\\'}, {\\\\\\'id\\\\\\': 10751, \\\\\\'name\\\\\\': \\\\\\'Family\\\\\\'}]\"}\\'), Document(metadata={\\'id\\': \\'c8ebbfb7e639558b56e7c6aeaa8dfcdf\\', \\'name\\': \\'projects/573274662810/locations/global/collections/default_collection/dataStores/cymbal-movie-data-store_1726607760029/branches/0/documents/c8ebbfb7e639558b56e7c6aeaa8dfcdf\\'}, page_content=\\'{\"status\": \"Released\", \"budget\": \"0\", \"runtime\": \"101\", \"production_companies\": \"[{\\\\\\'name\\\\\\': \\\\\\'Bent Christensen Filmproduktion\\\\\\', \\\\\\'id\\\\\\': 26267}]\", \"imdb_id\": \"tt0054965\", \"vote_average\": 8.0, \"popularity\": 0.263102, \"production_countries\": \"[{\\\\\\'iso_3166_1\\\\\\': \\\\\\'DK\\\\\\', \\\\\\'name\\\\\\': \\\\\\'Denmark\\\\\\'}]\", \"vote_count\": \"3\", \"id\": \"57911\", \"original_language\": \"da\", \"poster_path\": \"https://image.tmdb.org/t/p/original/i1pbgaAG1903UBlAfZRTgWRMb97.jpg\", \"spoken_languages\": \"[{\\\\\\'iso_639_1\\\\\\': \\\\\\'da\\\\\\', \\\\\\'name\\\\\\': \\\\\\'Dansk\\\\\\'}]\", \"original_title\": \"Harry og kammertjeneren\", \"title\": \"Harry and the Butler\", \"overview\": \"A gentle comedy offering the promise of easy social consensus. Harry (Helmuth) is a simple old-time shop porter offered a chance at self-realisation when he\\\\\\'s bequeathed a sum by an unknown relative (via several levels of fiscal blood suckers). He decides to engage a butler to take good care of him for a time. This is a man of distinguished upper class service, but a generous nature which happily integrates with Harry\\\\\\'s small but colourful world of drinking buddies and crackpot neighbourhood kids.\", \"revenue\": \"0\", \"release_date\": \"1961-09-07\", \"genres\": \"[{\\\\\\'id\\\\\\': 10751, \\\\\\'name\\\\\\': \\\\\\'Family\\\\\\'}, {\\\\\\'id\\\\\\': 35, \\\\\\'name\\\\\\': \\\\\\'Comedy\\\\\\'}]\"}\\'), Document(metadata={\\'id\\': \\'4518f8be85c72c4d5efb12ee607fedfb\\', \\'name\\': \\'projects/573274662810/locations/global/collections/default_collection/dataStores/cymbal-movie-data-store_1726607760029/branches/0/documents/4518f8be85c72c4d5efb12ee607fedfb\\'}, page_content=\\'{\"production_countries\": \"[{\\\\\\'iso_3166_1\\\\\\': \\\\\\'US\\\\\\', \\\\\\'name\\\\\\': \\\\\\'United States of America\\\\\\'}]\", \"status\": \"Released\", \"overview\": \"Harry is a retired teacher in his 70s living in the Upper West Side of New York City where his late wife and he raised his children--where he\\\\\\'s lived all his life. When the building he lives in is torn down to make way for a parking garage, Harry and his beloved cat Tonto begin a journey across the United States, visiting his children, seeing a world he never seemed to have the time to see before, making new friends, and saying goodbye to old friends.\", \"id\": \"42448\", \"poster_path\": \"https://image.tmdb.org/t/p/original/BbA9z4kFuIXmljZTHG3FjCWjQk.jpg\", \"original_title\": \"Harry and Tonto\", \"budget\": \"0\", \"vote_average\": 7.1, \"title\": \"Harry and Tonto\", \"tagline\": \"Get a Lift\", \"runtime\": \"115\", \"original_language\": \"en\", \"release_date\": \"1974-08-12\", \"imdb_id\": \"tt0071598\", \"production_companies\": \"[{\\\\\\'name\\\\\\': \\\\\\'Twentieth Century Fox Film Corporation\\\\\\', \\\\\\'id\\\\\\': 306}]\", \"revenue\": \"0\", \"popularity\": 1.848182, \"genres\": \"[{\\\\\\'id\\\\\\': 18, \\\\\\'name\\\\\\': \\\\\\'Drama\\\\\\'}, {\\\\\\'id\\\\\\': 35, \\\\\\'name\\\\\\': \\\\\\'Comedy\\\\\\'}]\", \"spoken_languages\": \"[{\\\\\\'iso_639_1\\\\\\': \\\\\\'en\\\\\\', \\\\\\'name\\\\\\': \\\\\\'English\\\\\\'}]\", \"vote_count\": \"26\"}\\'), Document(metadata={\\'id\\': \\'af9bf2763789e5f22aaf5a1a374e35a0\\', \\'name\\': \\'projects/573274662810/locations/global/collections/default_collection/dataStores/cymbal-movie-data-store_1726607760029/branches/0/documents/af9bf2763789e5f22aaf5a1a374e35a0\\'}, page_content=\\'{\"production_companies\": \"[{\\\\\\'name\\\\\\': \\\\\\'Columbia Pictures Corporation\\\\\\', \\\\\\'id\\\\\\': 441}]\", \"runtime\": \"115\", \"popularity\": 1.345474, \"vote_average\": 6.6, \"original_language\": \"en\", \"tagline\": \"All the Digby-Hill-Chestnut gang need is two breaks... out of jail... into a safe.\", \"revenue\": \"0\", \"poster_path\": \"https://image.tmdb.org/t/p/original/iDaToaofJZ1GbdYoE7847DQnhyO.jpg\", \"vote_count\": \"4\", \"original_title\": \"Harry and Walter Go To New York\", \"genres\": \"[{\\\\\\'id\\\\\\': 80, \\\\\\'name\\\\\\': \\\\\\'Crime\\\\\\'}, {\\\\\\'id\\\\\\': 35, \\\\\\'name\\\\\\': \\\\\\'Comedy\\\\\\'}]\", \"budget\": \"0\", \"overview\": \"Two hoplessly out of their class con-men attempt to pull off the largest bank heist of the l9th century. They gain the enmity of the most famous bank Robber in the world and the affection of a crusading newspaperwoman.\", \"title\": \"Harry and Walter Go To New York\", \"status\": \"Released\", \"release_date\": \"1976-06-17\", \"spoken_languages\": \"[{\\\\\\'iso_639_1\\\\\\': \\\\\\'en\\\\\\', \\\\\\'name\\\\\\': \\\\\\'English\\\\\\'}, {\\\\\\'iso_639_1\\\\\\': \\\\\\'de\\\\\\', \\\\\\'name\\\\\\': \\\\\\'Deutsch\\\\\\'}]\", \"production_countries\": \"[{\\\\\\'iso_3166_1\\\\\\': \\\\\\'US\\\\\\', \\\\\\'name\\\\\\': \\\\\\'United States of America\\\\\\'}]\", \"id\": \"149445\", \"imdb_id\": \"tt0074608\"}\\'), Document(metadata={\\'id\\': \\'0939b85363a88636d79c4cc5df70ffb6\\', \\'name\\': \\'projects/573274662810/locations/global/collections/default_collection/dataStores/cymbal-movie-data-store_1726607760029/branches/0/documents/0939b85363a88636d79c4cc5df70ffb6\\'}, page_content=\\'{\"release_date\": \"2009-04-25\", \"poster_path\": \"https://image.tmdb.org/t/p/original/solugFmCfz8k5Vo3cNJGafEGv7S.jpg\", \"runtime\": \"94\", \"production_countries\": \"[]\", \"homepage\": \"http://www.handsomeharrythemovie.com/\", \"budget\": \"1000000\", \"overview\": \"An ex-Navy man carrying out the last wish of a dying shipmate renews contact with old friends to break the code of silence around a mysterious, long-buried crime.\", \"genres\": \"[{\\\\\\'id\\\\\\': 80, \\\\\\'name\\\\\\': \\\\\\'Crime\\\\\\'}, {\\\\\\'id\\\\\\': 18, \\\\\\'name\\\\\\': \\\\\\'Drama\\\\\\'}]\", \"original_language\": \"en\", \"popularity\": 0.834019, \"vote_count\": \"7\", \"production_companies\": \"[]\", \"title\": \"Handsome Harry\", \"original_title\": \"Handsome Harry\", \"tagline\": \"Can we ever change the past?\", \"imdb_id\": \"tt1318001\", \"vote_average\": 5.3, \"id\": \"51933\", \"revenue\": \"0\", \"spoken_languages\": \"[]\", \"status\": \"Released\"}\\'), Document(metadata={\\'id\\': \\'e8978809a8234f82b624e7dfc31efc7b\\', \\'name\\': \\'projects/573274662810/locations/global/collections/default_collection/dataStores/cymbal-movie-data-store_1726607760029/branches/0/documents/e8978809a8234f82b624e7dfc31efc7b\\'}, page_content=\\'{\"tagline\": \"Detective Harry Callahan. He doesn\\\\\\'t break murder cases. He smashes them.\", \"popularity\": 10.255315, \"production_countries\": \"[{\\\\\\'iso_3166_1\\\\\\': \\\\\\'US\\\\\\', \\\\\\'name\\\\\\': \\\\\\'United States of America\\\\\\'}]\", \"runtime\": \"102\", \"original_language\": \"en\", \"budget\": \"4000000\", \"release_date\": \"1971-12-21\", \"spoken_languages\": \"[{\\\\\\'iso_639_1\\\\\\': \\\\\\'es\\\\\\', \\\\\\'name\\\\\\': \\\\\\'Espa\\\\\\\\u00f1ol\\\\\\'}, {\\\\\\'iso_639_1\\\\\\': \\\\\\'en\\\\\\', \\\\\\'name\\\\\\': \\\\\\'English\\\\\\'}]\", \"id\": \"984\", \"status\": \"Released\", \"imdb_id\": \"tt0066999\", \"genres\": \"[{\\\\\\'id\\\\\\': 28, \\\\\\'name\\\\\\': \\\\\\'Action\\\\\\'}, {\\\\\\'id\\\\\\': 80, \\\\\\'name\\\\\\': \\\\\\'Crime\\\\\\'}, {\\\\\\'id\\\\\\': 53, \\\\\\'name\\\\\\': \\\\\\'Thriller\\\\\\'}]\", \"homepage\": \"http://www.warnerbros.com/dirty-harry/\", \"production_companies\": \"[{\\\\\\'name\\\\\\': \\\\\\'Warner Bros.\\\\\\', \\\\\\'id\\\\\\': 6194}, {\\\\\\'name\\\\\\': \\\\\\'Malpaso Company\\\\\\', \\\\\\'id\\\\\\': 15298}]\", \"overview\": \"When a madman dubbed \\\\\\'Scorpio\\\\\\' terrorizes San Francisco, hard-nosed cop, Harry Callahan \\\\\\\\u2013 famous for his take-no-prisoners approach to law enforcement \\\\\\\\u2013 is tasked with hunting down the psychopath. Harry eventually collars Scorpio in the process of rescuing a kidnap victim, only to see him walk on technicalities. Now, the maverick detective is determined to nail the maniac himself.\", \"belongs_to_collection\": \"{\\\\\\'id\\\\\\': 10456, \\\\\\'name\\\\\\': \\\\\\'Dirty Harry Collection\\\\\\', \\\\\\'poster_path\\\\\\': \\\\\\'/bS1ioomHh2emKAZ6vWn17UZnhDx.jpg\\\\\\', \\\\\\'backdrop_path\\\\\\': \\\\\\'/nlpixhOhb3JmFqVXKjCwpYFpldf.jpg\\\\\\'}\", \"poster_path\": \"https://image.tmdb.org/t/p/original/6AlKDmfVi5cqQFprxJCf1FWihPk.jpg\", \"revenue\": \"35976000\", \"original_title\": \"Dirty Harry\", \"vote_count\": \"630\", \"vote_average\": 7.4, \"title\": \"Dirty Harry\"}\\'), Document(metadata={\\'id\\': \\'160d724f81da9cbf52a23f24c65fbbfb\\', \\'name\\': \\'projects/573274662810/locations/global/collections/default_collection/dataStores/cymbal-movie-data-store_1726607760029/branches/0/documents/160d724f81da9cbf52a23f24c65fbbfb\\'}, page_content=\\'{\"poster_path\": \"https://image.tmdb.org/t/p/original/5TAL6CSTBFPHQdEmFKRlecDz43X.jpg\", \"vote_average\": 6.3, \"production_companies\": \"[{\\\\\\'name\\\\\\': \\\\\\'BBC Films\\\\\\', \\\\\\'id\\\\\\': 288}]\", \"original_title\": \"Miss Potter\", \"spoken_languages\": \"[{\\\\\\'iso_639_1\\\\\\': \\\\\\'en\\\\\\', \\\\\\'name\\\\\\': \\\\\\'English\\\\\\'}]\", \"original_language\": \"en\", \"popularity\": 8.599342, \"release_date\": \"2006-12-03\", \"genres\": \"[{\\\\\\'id\\\\\\': 18, \\\\\\'name\\\\\\': \\\\\\'Drama\\\\\\'}, {\\\\\\'id\\\\\\': 10751, \\\\\\'name\\\\\\': \\\\\\'Family\\\\\\'}, {\\\\\\'id\\\\\\': 10749, \\\\\\'name\\\\\\': \\\\\\'Romance\\\\\\'}]\", \"overview\": \"The story of Beatrix Potter, the author of the beloved and best-selling children\\\\\\'s book, \\\\\\\\\"The Tale of Peter Rabbit\\\\\\\\\", and her struggle for love, happiness and success.\", \"revenue\": \"35078241\", \"title\": \"Miss Potter\", \"vote_count\": \"143\", \"status\": \"Released\", \"budget\": \"30000000\", \"tagline\": \"The life of Beatrix Potter is the most enchanting tale of all.\", \"id\": \"13967\", \"runtime\": \"92\", \"production_countries\": \"[{\\\\\\'iso_3166_1\\\\\\': \\\\\\'GB\\\\\\', \\\\\\'name\\\\\\': \\\\\\'United Kingdom\\\\\\'}, {\\\\\\'iso_3166_1\\\\\\': \\\\\\'US\\\\\\', \\\\\\'name\\\\\\': \\\\\\'United States of America\\\\\\'}]\", \"imdb_id\": \"tt0482546\"}\\')]'"
      ]
     },
     "execution_count": 12,
     "metadata": {},
     "output_type": "execute_result"
    }
   ],
   "source": [
    "search_kaggle_movies(\"Harry Potter\")"
   ]
  },
  {
   "cell_type": "code",
   "execution_count": 13,
   "id": "402477ec-828a-4d53-99d9-0aa09fc7a4b8",
   "metadata": {
    "tags": []
   },
   "outputs": [],
   "source": [
    "prompt = {\n",
    "    \"history\": lambda x: x[\"history\"],\n",
    "    \"input\": lambda x: x[\"input\"],\n",
    "    \"agent_scratchpad\": (lambda x: format_to_tool_messages(x[\"intermediate_steps\"])),\n",
    "} | prompts.ChatPromptTemplate.from_messages(\n",
    "    [\n",
    "        prompts.MessagesPlaceholder(variable_name=\"history\"),\n",
    "        (\"user\", \"{input}\"),\n",
    "        prompts.MessagesPlaceholder(variable_name=\"agent_scratchpad\"),\n",
    "    ]\n",
    ")\n",
    "\n",
    "# Initialize session history\n",
    "store = {}\n",
    "\n",
    "\n",
    "def get_session_history(session_id: str):\n",
    "    if session_id not in store:\n",
    "        store[session_id] = ChatMessageHistory()\n",
    "    return store[session_id]"
   ]
  },
  {
   "cell_type": "code",
   "execution_count": 14,
   "id": "bca78d81-0af5-40fe-9fc0-e808075720aa",
   "metadata": {
    "tags": []
   },
   "outputs": [],
   "source": [
    "agent = reasoning_engines.LangchainAgent(\n",
    "    prompt=prompt,\n",
    "    model=model,\n",
    "    chat_history=get_session_history,\n",
    "    model_kwargs={\"temperature\": 0},\n",
    "    tools=[search_kaggle_movies],\n",
    "    agent_executor_kwargs={\"return_intermediate_steps\": True},\n",
    ")"
   ]
  },
  {
   "cell_type": "code",
   "execution_count": 15,
   "id": "181453e3-544a-40aa-808d-181668af3d66",
   "metadata": {
    "tags": []
   },
   "outputs": [
    {
     "data": {
      "text/markdown": [
       "Here are some sci-fi movies from the 1990s:\n",
       "\n",
       "* The Time Machine (1960) A Victorian Englishman travels to the far future and finds that humanity has divided into two hostile species. \n",
       "* Metamorphosis: The Alien Factor (1990) A virus from outer space transforms a bio-researcher into a blood thirsty monster. "
      ],
      "text/plain": [
       "<IPython.core.display.Markdown object>"
      ]
     },
     "metadata": {},
     "output_type": "display_data"
    }
   ],
   "source": [
    "response = agent.query(\n",
    "    input=\"List some sci-fi movies from the 1990s\",\n",
    "    config={\"configurable\": {\"session_id\": \"demo\"}},\n",
    ")\n",
    "\n",
    "display(Markdown(response[\"output\"]))"
   ]
  },
  {
   "cell_type": "code",
   "execution_count": 16,
   "id": "4cafd55a-2476-4f75-a2d9-3882ec421d09",
   "metadata": {
    "tags": []
   },
   "outputs": [],
   "source": [
    "agent = reasoning_engines.LangchainAgent(\n",
    "    prompt=prompt,\n",
    "    model=model,\n",
    "    chat_history=get_session_history,\n",
    "    model_kwargs={\"temperature\": 0},\n",
    "    tools=[search_kaggle_movies],\n",
    "    agent_executor_kwargs={\"return_intermediate_steps\": True},\n",
    ")"
   ]
  },
  {
   "cell_type": "code",
   "execution_count": 17,
   "id": "77b0a2da-c1f2-4f38-9087-58aac178cf85",
   "metadata": {
    "tags": []
   },
   "outputs": [
    {
     "name": "stdout",
     "output_type": "stream",
     "text": [
      "Creating bucket qwiklabs-gcp-02-a5369b2dfad3 in location='us-central1'\n",
      "Writing to gs://qwiklabs-gcp-02-a5369b2dfad3/reasoning_engine/reasoning_engine.pkl\n",
      "Writing to gs://qwiklabs-gcp-02-a5369b2dfad3/reasoning_engine/requirements.txt\n",
      "Creating in-memory tarfile of extra_packages\n",
      "Writing to gs://qwiklabs-gcp-02-a5369b2dfad3/reasoning_engine/dependencies.tar.gz\n",
      "Creating ReasoningEngine\n",
      "Create ReasoningEngine backing LRO: projects/573274662810/locations/us-central1/reasoningEngines/9176946257883561984/operations/8075995541185495040\n",
      "ReasoningEngine created. Resource name: projects/573274662810/locations/us-central1/reasoningEngines/9176946257883561984\n",
      "To use this ReasoningEngine in another session:\n",
      "reasoning_engine = vertexai.preview.reasoning_engines.ReasoningEngine('projects/573274662810/locations/us-central1/reasoningEngines/9176946257883561984')\n"
     ]
    }
   ],
   "source": [
    "remote_agent = reasoning_engines.ReasoningEngine.create(\n",
    "    agent,\n",
    "    requirements=[\n",
    "        \"google-cloud-aiplatform[langchain,reasoningengine]\",\n",
    "        \"cloudpickle==3.0.0\",\n",
    "        \"pydantic==2.7.4\",\n",
    "        \"langchain-google-community\",\n",
    "        \"google-cloud-discoveryengine\",\n",
    "    ],\n",
    ")"
   ]
  },
  {
   "cell_type": "code",
   "execution_count": 18,
   "id": "afb658df-f4bd-4184-b395-fc1824ffeff3",
   "metadata": {
    "tags": []
   },
   "outputs": [
    {
     "data": {
      "text/plain": [
       "'573274662810'"
      ]
     },
     "execution_count": 18,
     "metadata": {},
     "output_type": "execute_result"
    }
   ],
   "source": [
    "service = discovery.build(\"cloudresourcemanager\", \"v1\")\n",
    "request = service.projects().get(projectId=PROJECT_ID)\n",
    "response = request.execute()\n",
    "project_number = response[\"projectNumber\"]\n",
    "project_number"
   ]
  },
  {
   "cell_type": "code",
   "execution_count": 19,
   "id": "3c6ad694-4642-4bda-af38-d48412b71b69",
   "metadata": {
    "tags": []
   },
   "outputs": [
    {
     "name": "stderr",
     "output_type": "stream",
     "text": [
      "I0000 00:00:1726608527.425875     479 work_stealing_thread_pool.cc:320] WorkStealingThreadPoolImpl::PrepareFork\n"
     ]
    },
    {
     "name": "stdout",
     "output_type": "stream",
     "text": [
      "Updated IAM policy for project [qwiklabs-gcp-02-a5369b2dfad3].\n",
      "bindings:\n",
      "- members:\n",
      "  - serviceAccount:573274662810-compute@developer.gserviceaccount.com\n",
      "  role: roles/aiplatform.admin\n",
      "- members:\n",
      "  - serviceAccount:service-573274662810@gcp-sa-aiplatform-cc.iam.gserviceaccount.com\n",
      "  role: roles/aiplatform.customCodeServiceAgent\n",
      "- members:\n",
      "  - serviceAccount:service-573274662810@gcp-sa-aiplatform-re.iam.gserviceaccount.com\n",
      "  role: roles/aiplatform.reasoningEngineServiceAgent\n",
      "- members:\n",
      "  - serviceAccount:service-573274662810@gcp-sa-aiplatform.iam.gserviceaccount.com\n",
      "  role: roles/aiplatform.serviceAgent\n",
      "- members:\n",
      "  - serviceAccount:573274662810-compute@developer.gserviceaccount.com\n",
      "  role: roles/artifactregistry.admin\n",
      "- members:\n",
      "  - serviceAccount:573274662810-compute@developer.gserviceaccount.com\n",
      "  - serviceAccount:qwiklabs-gcp-02-a5369b2dfad3@qwiklabs-gcp-02-a5369b2dfad3.iam.gserviceaccount.com\n",
      "  role: roles/bigquery.admin\n",
      "- members:\n",
      "  - serviceAccount:573274662810@cloudbuild.gserviceaccount.com\n",
      "  role: roles/cloudbuild.builds.builder\n",
      "- members:\n",
      "  - serviceAccount:573274662810-compute@developer.gserviceaccount.com\n",
      "  role: roles/cloudbuild.builds.editor\n",
      "- members:\n",
      "  - serviceAccount:573274662810-compute@developer.gserviceaccount.com\n",
      "  role: roles/cloudbuild.integrations.editor\n",
      "- members:\n",
      "  - serviceAccount:service-573274662810@gcp-sa-cloudbuild.iam.gserviceaccount.com\n",
      "  role: roles/cloudbuild.serviceAgent\n",
      "- members:\n",
      "  - serviceAccount:573274662810-compute@developer.gserviceaccount.com\n",
      "  role: roles/cloudfunctions.admin\n",
      "- members:\n",
      "  - serviceAccount:service-573274662810@compute-system.iam.gserviceaccount.com\n",
      "  role: roles/compute.serviceAgent\n",
      "- members:\n",
      "  - serviceAccount:service-573274662810@container-engine-robot.iam.gserviceaccount.com\n",
      "  role: roles/container.serviceAgent\n",
      "- members:\n",
      "  - serviceAccount:service-573274662810@gcp-sa-aiplatform-re.iam.gserviceaccount.com\n",
      "  role: roles/discoveryengine.editor\n",
      "- members:\n",
      "  - serviceAccount:service-573274662810@gcp-sa-discoveryengine.iam.gserviceaccount.com\n",
      "  role: roles/discoveryengine.serviceAgent\n",
      "- members:\n",
      "  - serviceAccount:573274662810-compute@developer.gserviceaccount.com\n",
      "  - serviceAccount:573274662810@cloudservices.gserviceaccount.com\n",
      "  - user:student-02-51a9db722322@qwiklabs.net\n",
      "  role: roles/editor\n",
      "- members:\n",
      "  - serviceAccount:573274662810-compute@developer.gserviceaccount.com\n",
      "  role: roles/iam.serviceAccountAdmin\n",
      "- members:\n",
      "  - serviceAccount:573274662810-compute@developer.gserviceaccount.com\n",
      "  role: roles/notebooks.admin\n",
      "- members:\n",
      "  - serviceAccount:service-573274662810@gcp-sa-notebooks.iam.gserviceaccount.com\n",
      "  role: roles/notebooks.serviceAgent\n",
      "- members:\n",
      "  - serviceAccount:admiral@qwiklabs-services-prod.iam.gserviceaccount.com\n",
      "  - serviceAccount:qwiklabs-gcp-02-a5369b2dfad3@qwiklabs-gcp-02-a5369b2dfad3.iam.gserviceaccount.com\n",
      "  role: roles/owner\n",
      "- members:\n",
      "  - serviceAccount:573274662810-compute@developer.gserviceaccount.com\n",
      "  role: roles/pubsub.admin\n",
      "- members:\n",
      "  - serviceAccount:573274662810-compute@developer.gserviceaccount.com\n",
      "  role: roles/resourcemanager.projectIamAdmin\n",
      "- members:\n",
      "  - serviceAccount:573274662810-compute@developer.gserviceaccount.com\n",
      "  - serviceAccount:qwiklabs-gcp-02-a5369b2dfad3@qwiklabs-gcp-02-a5369b2dfad3.iam.gserviceaccount.com\n",
      "  role: roles/storage.admin\n",
      "- members:\n",
      "  - user:student-02-51a9db722322@qwiklabs.net\n",
      "  role: roles/viewer\n",
      "etag: BwYiV2AYIeE=\n",
      "version: 1\n"
     ]
    }
   ],
   "source": [
    "!gcloud projects add-iam-policy-binding {PROJECT_ID} \\\n",
    "    --member=serviceAccount:service-{project_number}@gcp-sa-aiplatform-re.iam.gserviceaccount.com \\\n",
    "    --role=roles/discoveryengine.editor"
   ]
  },
  {
   "cell_type": "code",
   "execution_count": 25,
   "id": "1c487328-b5c8-44bc-8b01-1684231f00d7",
   "metadata": {
    "tags": []
   },
   "outputs": [
    {
     "data": {
      "text/markdown": [
       "Here are some sci-fi movies from the 1990s:\n",
       "\n",
       "* **Science Fiction** (2002) Nine-year-old Andreas Decker is the new kid in town who claims his parents are aliens.\n",
       "* **Moon 44** (1990) In 2038, Earth's resources are depleted, and corporations battle for minerals on other planets. \n",
       "\n"
      ],
      "text/plain": [
       "<IPython.core.display.Markdown object>"
      ]
     },
     "metadata": {},
     "output_type": "display_data"
    }
   ],
   "source": [
    "response = remote_agent.query(\n",
    "    input=\"List some sci-fi movies from the 1990s\",\n",
    "    config={\"configurable\": {\"session_id\": \"demo\"}},\n",
    ")\n",
    "\n",
    "display(Markdown(response[\"output\"]))"
   ]
  },
  {
   "cell_type": "code",
   "execution_count": 26,
   "id": "bce3c7e1-bbfa-4b88-a412-0b7877e44763",
   "metadata": {
    "tags": []
   },
   "outputs": [
    {
     "data": {
      "text/markdown": [
       "The main actors in The Matrix (1999) are: \n",
       "\n",
       "* Keanu Reeves\n",
       "* Laurence Fishburne \n",
       "* Carrie-Anne Moss\n",
       "* Hugo Weaving \n",
       "* Joe Pantoliano \n",
       "\n"
      ],
      "text/plain": [
       "<IPython.core.display.Markdown object>"
      ]
     },
     "metadata": {},
     "output_type": "display_data"
    }
   ],
   "source": [
    "response = remote_agent.query(\n",
    "    input=\"Who are the actors in The Matrix?\",\n",
    "    config={\"configurable\": {\"session_id\": \"demo\"}},\n",
    ")\n",
    "\n",
    "display(Markdown(response[\"output\"]))"
   ]
  },
  {
   "cell_type": "code",
   "execution_count": 27,
   "id": "25b2902c-e4df-4e5a-b737-1b06fceb65ff",
   "metadata": {
    "tags": []
   },
   "outputs": [
    {
     "data": {
      "text/markdown": [
       "Please clarify which actors you're interested in.  I listed two movies, but didn't mention any actors.  Can you tell me the names of the actors you'd like to know more about? \n"
      ],
      "text/plain": [
       "<IPython.core.display.Markdown object>"
      ]
     },
     "metadata": {},
     "output_type": "display_data"
    }
   ],
   "source": [
    "response = remote_agent.query(\n",
    "    input=\"Are those actors in any other movies?\",\n",
    "    config={\"configurable\": {\"session_id\": \"demo\"}},\n",
    ")\n",
    "\n",
    "display(Markdown(response[\"output\"]))"
   ]
  },
  {
   "cell_type": "code",
   "execution_count": null,
   "id": "d74f78ab-bf4a-4a52-9da2-fd71940b2b92",
   "metadata": {},
   "outputs": [],
   "source": []
  }
 ],
 "metadata": {
  "environment": {
   "kernel": "python3",
   "name": ".m124",
   "type": "gcloud",
   "uri": "us-docker.pkg.dev/deeplearning-platform-release/gcr.io/:m124"
  },
  "kernelspec": {
   "display_name": "Python 3 (ipykernel) (Local)",
   "language": "python",
   "name": "python3"
  },
  "language_info": {
   "codemirror_mode": {
    "name": "ipython",
    "version": 3
   },
   "file_extension": ".py",
   "mimetype": "text/x-python",
   "name": "python",
   "nbconvert_exporter": "python",
   "pygments_lexer": "ipython3",
   "version": "3.10.14"
  }
 },
 "nbformat": 4,
 "nbformat_minor": 5
}
