{
 "cells": [
  {
   "cell_type": "code",
   "execution_count": 1,
   "id": "1c68d58b-0fe0-494a-b06d-b9ab71b7ca8e",
   "metadata": {
    "tags": []
   },
   "outputs": [
    {
     "name": "stdout",
     "output_type": "stream",
     "text": [
      "\u001b[31mERROR: pip's dependency resolver does not currently take into account all the packages that are installed. This behaviour is the source of the following dependency conflicts.\n",
      "dataproc-jupyter-plugin 0.1.80 requires pydantic~=1.10.0, but you have pydantic 2.7.4 which is incompatible.\n",
      "ydata-profiling 4.6.0 requires pydantic<2,>=1.8.1, but you have pydantic 2.7.4 which is incompatible.\u001b[0m\u001b[31m\n",
      "\u001b[0m\u001b[33mWARNING: Running pip as the 'root' user can result in broken permissions and conflicting behaviour with the system package manager. It is recommended to use a virtual environment instead: https://pip.pypa.io/warnings/venv\u001b[0m\u001b[33m\n",
      "\u001b[0m"
     ]
    }
   ],
   "source": [
    "!pip install --upgrade --quiet \\\n",
    "    \"google-cloud-aiplatform[langchain,reasoningengine]\" \\\n",
    "    cloudpickle==3.0.0 \\\n",
    "    pydantic==2.7.4 \\\n",
    "    requests"
   ]
  },
  {
   "cell_type": "code",
   "execution_count": 2,
   "id": "4e710cac-d1fb-4fd3-ab46-c1406cd12c96",
   "metadata": {
    "tags": []
   },
   "outputs": [
    {
     "data": {
      "text/plain": [
       "{'status': 'ok', 'restart': True}"
      ]
     },
     "execution_count": 2,
     "metadata": {},
     "output_type": "execute_result"
    }
   ],
   "source": [
    "# Restart the kernel after installation so that your environment can access the new packages\n",
    "import IPython\n",
    "\n",
    "app = IPython.Application.instance()\n",
    "app.kernel.do_shutdown(True)"
   ]
  },
  {
   "cell_type": "code",
   "execution_count": 1,
   "id": "d3b02e51-1dc6-4ec4-8f7d-8e5b3d93f8e1",
   "metadata": {
    "tags": []
   },
   "outputs": [],
   "source": [
    "PROJECT_ID = \"qwiklabs-gcp-01-68255eb285b9\"  \n",
    "LOCATION = \"us-central1\"\n",
    "STAGING_BUCKET = \"gs://qwiklabs-gcp-01-68255eb285b9\"  \n",
    "\n",
    "import vertexai\n",
    "\n",
    "vertexai.init(project=PROJECT_ID, location=LOCATION, staging_bucket=STAGING_BUCKET)"
   ]
  },
  {
   "cell_type": "code",
   "execution_count": 2,
   "id": "4c9bd795-b5f7-45da-9258-f617c4399c08",
   "metadata": {
    "tags": []
   },
   "outputs": [],
   "source": [
    "from vertexai.preview import reasoning_engines"
   ]
  },
  {
   "cell_type": "code",
   "execution_count": 3,
   "id": "e1a0c04a-6b2d-4a3b-acc6-0f3b2091e389",
   "metadata": {
    "tags": []
   },
   "outputs": [],
   "source": [
    "model = \"gemini-1.5-pro-001\""
   ]
  },
  {
   "cell_type": "code",
   "execution_count": 4,
   "id": "47bc6e3c-23b8-4d6b-9605-7e769db9e677",
   "metadata": {
    "tags": []
   },
   "outputs": [],
   "source": [
    "def get_exchange_rate(\n",
    "    currency_from: str = \"USD\",\n",
    "    currency_to: str = \"EUR\",\n",
    "    currency_date: str = \"latest\",\n",
    "):\n",
    "    \"\"\"Retrieves the exchange rate between two currencies on a specified date.\"\"\"\n",
    "    import requests\n",
    "\n",
    "    response = requests.get(\n",
    "        f\"https://api.frankfurter.app/{currency_date}\",\n",
    "        params={\"from\": currency_from, \"to\": currency_to},\n",
    "    )\n",
    "    return response.json()"
   ]
  },
  {
   "cell_type": "code",
   "execution_count": 5,
   "id": "bac54279-6c68-4171-b9e0-6782a55fd1a2",
   "metadata": {
    "tags": []
   },
   "outputs": [
    {
     "data": {
      "text/plain": [
       "{'amount': 1.0, 'base': 'USD', 'date': '2024-09-16', 'rates': {'SEK': 10.1739}}"
      ]
     },
     "execution_count": 5,
     "metadata": {},
     "output_type": "execute_result"
    }
   ],
   "source": [
    "get_exchange_rate(currency_from=\"USD\", currency_to=\"SEK\")"
   ]
  },
  {
   "cell_type": "code",
   "execution_count": 6,
   "id": "6fe1696d-c9de-4a6e-95fe-d744319ca36c",
   "metadata": {
    "tags": []
   },
   "outputs": [],
   "source": [
    "agent = reasoning_engines.LangchainAgent(\n",
    "    model=model,\n",
    "    tools=[get_exchange_rate],\n",
    "    agent_executor_kwargs={\"return_intermediate_steps\": True},\n",
    ")"
   ]
  },
  {
   "cell_type": "code",
   "execution_count": 7,
   "id": "ad025f8b-0a36-4fc7-8827-c1ef5364d16d",
   "metadata": {
    "tags": []
   },
   "outputs": [
    {
     "name": "stderr",
     "output_type": "stream",
     "text": [
      "WARNING: All log messages before absl::InitializeLog() is called are written to STDERR\n",
      "I0000 00:00:1726510880.063963     430 config.cc:230] gRPC experiments enabled: call_status_override_on_cancellation, event_engine_dns, event_engine_listener, http2_stats_fix, monitoring_experiment, pick_first_new, trace_record_callops, work_serializer_clears_time_cache\n"
     ]
    },
    {
     "data": {
      "text/plain": [
       "{'input': \"What's the exchange rate from US dollars to Swedish currency today?\",\n",
       " 'output': 'The exchange rate from US dollars to Swedish krona today is 1 USD to 10.1739 SEK. \\n',\n",
       " 'intermediate_steps': [[{'lc': 1,\n",
       "    'type': 'constructor',\n",
       "    'id': ['langchain', 'schema', 'agent', 'ToolAgentAction'],\n",
       "    'kwargs': {'tool': 'get_exchange_rate',\n",
       "     'tool_input': {'currency_from': 'USD', 'currency_to': 'SEK'},\n",
       "     'log': \"\\nInvoking: `get_exchange_rate` with `{'currency_from': 'USD', 'currency_to': 'SEK'}`\\n\\n\\n\",\n",
       "     'type': 'AgentActionMessageLog',\n",
       "     'message_log': [{'lc': 1,\n",
       "       'type': 'constructor',\n",
       "       'id': ['langchain', 'schema', 'messages', 'AIMessageChunk'],\n",
       "       'kwargs': {'content': '',\n",
       "        'additional_kwargs': {'function_call': {'name': 'get_exchange_rate',\n",
       "          'arguments': '{\"currency_from\": \"USD\", \"currency_to\": \"SEK\"}'}},\n",
       "        'response_metadata': {'is_blocked': False,\n",
       "         'safety_ratings': [{'category': 'HARM_CATEGORY_HATE_SPEECH',\n",
       "           'probability_label': 'NEGLIGIBLE',\n",
       "           'blocked': False},\n",
       "          {'category': 'HARM_CATEGORY_DANGEROUS_CONTENT',\n",
       "           'probability_label': 'NEGLIGIBLE',\n",
       "           'blocked': False},\n",
       "          {'category': 'HARM_CATEGORY_HARASSMENT',\n",
       "           'probability_label': 'NEGLIGIBLE',\n",
       "           'blocked': False},\n",
       "          {'category': 'HARM_CATEGORY_SEXUALLY_EXPLICIT',\n",
       "           'probability_label': 'NEGLIGIBLE',\n",
       "           'blocked': False}]},\n",
       "        'type': 'AIMessageChunk',\n",
       "        'id': 'run-9a78db82-ee31-498d-a9be-99916a6f2ba0',\n",
       "        'tool_calls': [{'name': 'get_exchange_rate',\n",
       "          'args': {'currency_from': 'USD', 'currency_to': 'SEK'},\n",
       "          'id': '79ad6362-0e10-40d2-a959-cb9817135ba2',\n",
       "          'type': 'tool_call'}],\n",
       "        'usage_metadata': {'input_tokens': 54,\n",
       "         'output_tokens': 13,\n",
       "         'total_tokens': 67},\n",
       "        'tool_call_chunks': [{'name': 'get_exchange_rate',\n",
       "          'args': '{\"currency_from\": \"USD\", \"currency_to\": \"SEK\"}',\n",
       "          'id': '79ad6362-0e10-40d2-a959-cb9817135ba2',\n",
       "          'index': None,\n",
       "          'type': 'tool_call_chunk'}],\n",
       "        'invalid_tool_calls': []}}],\n",
       "     'tool_call_id': '79ad6362-0e10-40d2-a959-cb9817135ba2'}},\n",
       "   {'amount': 1.0,\n",
       "    'base': 'USD',\n",
       "    'date': '2024-09-16',\n",
       "    'rates': {'SEK': 10.1739}}]]}"
      ]
     },
     "execution_count": 7,
     "metadata": {},
     "output_type": "execute_result"
    }
   ],
   "source": [
    "agent.query(input=\"What's the exchange rate from US dollars to Swedish currency today?\")"
   ]
  },
  {
   "cell_type": "code",
   "execution_count": 8,
   "id": "0c9847e9-f49d-4705-ac9a-5ad0b6fd7a75",
   "metadata": {
    "tags": []
   },
   "outputs": [],
   "source": [
    "agent = reasoning_engines.LangchainAgent(\n",
    "    model=model,\n",
    "    tools=[get_exchange_rate],\n",
    ")"
   ]
  },
  {
   "cell_type": "code",
   "execution_count": null,
   "id": "a648173e-fd58-4000-a907-66507431e2e0",
   "metadata": {
    "tags": []
   },
   "outputs": [],
   "source": [
    "remote_agent = reasoning_engines.ReasoningEngine.create(\n",
    "    agent,\n",
    "    requirements=[\n",
    "        \"google-cloud-aiplatform[langchain,reasoningengine]\",\n",
    "        \"cloudpickle==3.0.0\",\n",
    "        \"pydantic==2.7.4\",\n",
    "        \"requests\",\n",
    "    ],\n",
    ")"
   ]
  },
  {
   "cell_type": "code",
   "execution_count": null,
   "id": "0bc7ebaf-f7fd-4f53-9b7a-ebbbc8107c6f",
   "metadata": {
    "tags": []
   },
   "outputs": [],
   "source": [
    "remote_agent.query(\n",
    "    input=\"What's the exchange rate from US dollars to Swedish currency today?\"\n",
    ")"
   ]
  },
  {
   "cell_type": "code",
   "execution_count": null,
   "id": "8bb59485-150d-4193-bdd4-e8a32ff0f5ac",
   "metadata": {},
   "outputs": [],
   "source": []
  }
 ],
 "metadata": {
  "environment": {
   "kernel": "python3",
   "name": ".m124",
   "type": "gcloud",
   "uri": "us-docker.pkg.dev/deeplearning-platform-release/gcr.io/:m124"
  },
  "kernelspec": {
   "display_name": "Python 3 (ipykernel) (Local)",
   "language": "python",
   "name": "python3"
  },
  "language_info": {
   "codemirror_mode": {
    "name": "ipython",
    "version": 3
   },
   "file_extension": ".py",
   "mimetype": "text/x-python",
   "name": "python",
   "nbconvert_exporter": "python",
   "pygments_lexer": "ipython3",
   "version": "3.10.14"
  }
 },
 "nbformat": 4,
 "nbformat_minor": 5
}
